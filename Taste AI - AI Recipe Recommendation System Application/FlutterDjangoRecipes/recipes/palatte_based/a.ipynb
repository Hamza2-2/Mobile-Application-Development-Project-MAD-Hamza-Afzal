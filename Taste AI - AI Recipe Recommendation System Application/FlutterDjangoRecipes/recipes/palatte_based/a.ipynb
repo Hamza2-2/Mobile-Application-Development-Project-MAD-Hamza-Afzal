{
 "cells": [
  {
   "cell_type": "code",
   "execution_count": 12,
   "id": "52c54d5d",
   "metadata": {},
   "outputs": [],
   "source": [
    "import joblib\n",
    "from scipy import sparse\n",
    "import pandas as pd\n",
    "from sklearn.feature_extraction.text import CountVectorizer\n",
    "from sklearn.preprocessing import MultiLabelBinarizer\n",
    "from sklearn.metrics.pairwise import cosine_similarity\n",
    "\n",
    "from scipy.sparse import hstack"
   ]
  },
  {
   "cell_type": "code",
   "execution_count": null,
   "id": "5c5e78e8",
   "metadata": {},
   "outputs": [],
   "source": [
    "ingredient_vectorizer = joblib.load(\"ingredient_vectorizer.joblib\")\n",
    "palette_binarizer = joblib.load(\"palette_binarizer.joblib\")\n",
    "X_combined = sparse.load_npz(\"X_combined.npz\")\n",
    "knn = joblib.load(\"/root/gpu_project/recipeproject/palette/ken/knn_model_palette.joblib\")"
   ]
  },
  {
   "cell_type": "code",
   "execution_count": 14,
   "id": "47ed768b",
   "metadata": {},
   "outputs": [],
   "source": [
    "file_path = '/root/gpu_project/recipeproject/palette/foodrecsys_v1_with_palette.csv'\n",
    "df = pd.read_csv(file_path)"
   ]
  },
  {
   "cell_type": "code",
   "execution_count": 15,
   "id": "aa5ada79",
   "metadata": {},
   "outputs": [],
   "source": [
    "# ------------------- Recommendation Function -------------------\n",
    "def recommend_recipes(input_ingredients_str, input_palette_str, top_k=5):\n",
    "    # Prepare input ingredients\n",
    "    input_ingredients = ', '.join(sorted([i.strip().lower() for i in input_ingredients_str.split(',')]))\n",
    "    ingredient_vec = ingredient_vectorizer.transform([input_ingredients])\n",
    "    \n",
    "    # Prepare palette\n",
    "    input_palette = [p.strip().lower() for p in input_palette_str.split(',') if p.strip()]\n",
    "    palette_vec = palette_binarizer.transform([input_palette])\n",
    "    \n",
    "    # Combine sparse features\n",
    "    input_vec = hstack([ingredient_vec, palette_vec])\n",
    "    \n",
    "    # Compute cosine similarity\n",
    "    similarities = cosine_similarity(input_vec, X_combined).flatten()\n",
    "    top_indices = similarities.argsort()[::-1][:top_k]\n",
    "    \n",
    "    # Optional: Add match score based on exact ingredient overlap\n",
    "    input_set = set(i.strip().lower() for i in input_ingredients_str.split(','))\n",
    "    df['match_score'] = df['ingredients_list'].apply(\n",
    "        lambda ing: len(input_set & set(i.strip().lower() for i in ing.split(',')))\n",
    "    )\n",
    "    \n",
    "    # Select and sort results\n",
    "    results = df.iloc[top_indices].copy()\n",
    "    results = results.sort_values(by='match_score', ascending=False)\n",
    "    return results[['recipe_name', 'ingredients_list', 'palette', 'match_score', 'image_url']]\n"
   ]
  },
  {
   "cell_type": "code",
   "execution_count": 16,
   "id": "2ea77ab0",
   "metadata": {},
   "outputs": [
    {
     "name": "stdout",
     "output_type": "stream",
     "text": [
      "                      recipe_name  \\\n",
      "0                  Homemade Bacon   \n",
      "7946            Crispy Pork Belly   \n",
      "10597        Marmalade Pork Chops   \n",
      "17179  Alyssa's Mango Peach Salsa   \n",
      "32933                     Espiros   \n",
      "\n",
      "                                        ingredients_list  \\\n",
      "0      ['pork belly', 'smoked paprika', 'kosher salt'...   \n",
      "7946   ['pork belly', 'smoked paprika', 'kosher salt ...   \n",
      "10597    ['pork chops', 'orange marmalade', 'soy sauce']   \n",
      "17179  ['diced mango', 'diced peaches', 'vegetable oi...   \n",
      "32933    ['eggs', 'salt', 'orange juice', 'white sugar']   \n",
      "\n",
      "                     palette  match_score  \\\n",
      "0       savory, smoky, spicy            0   \n",
      "7946    savory, smoky, spicy            0   \n",
      "10597  fruity, savory, umami            0   \n",
      "17179         fruity, savory            0   \n",
      "32933  fruity, savory, sweet            0   \n",
      "\n",
      "                                               image_url  \n",
      "0      https://images.media-allrecipes.com/userphotos...  \n",
      "7946   https://images.media-allrecipes.com/userphotos...  \n",
      "10597  https://images.media-allrecipes.com/userphotos...  \n",
      "17179  http://images.media-allrecipes.com/userphotos/...  \n",
      "32933  https://images.media-allrecipes.com/userphotos...  \n"
     ]
    }
   ],
   "source": [
    "# -------------------- Example Test --------------------\n",
    "# input_ingredients = 'pork belly, smoked paprika, kosher salt'\n",
    "input_ingredients = 'pork belly, smoked paprika, kosher salt'\n",
    "input_palette = 'fruity, savory'\n",
    "recommendations = recommend_recipes(input_ingredients, input_palette)\n",
    "print(recommendations.head(5))"
   ]
  },
  {
   "cell_type": "code",
   "execution_count": 17,
   "id": "3d432f6b",
   "metadata": {},
   "outputs": [],
   "source": [
    "from sklearn.metrics.pairwise import cosine_similarity\n",
    "from scipy.sparse import hstack\n",
    "import numpy as np\n",
    "\n",
    "# Global variable to track shown indices\n",
    "shown_indices = set()\n",
    "\n",
    "def recommend_recipes(input_ingredients_str, input_palette_str, top_k=3, show_more=False):\n",
    "    global shown_indices\n",
    "\n",
    "    # Prepare input ingredients\n",
    "    input_ingredients = ', '.join(sorted([i.strip().lower() for i in input_ingredients_str.split(',')]))\n",
    "    ingredient_vec = ingredient_vectorizer.transform([input_ingredients])\n",
    "    \n",
    "    # Prepare palette\n",
    "    input_palette = [p.strip().lower() for p in input_palette_str.split(',') if p.strip()]\n",
    "    palette_vec = palette_binarizer.transform([input_palette])\n",
    "    \n",
    "    # Combine sparse features\n",
    "    input_vec = hstack([ingredient_vec, palette_vec])\n",
    "    \n",
    "    # Compute cosine similarity\n",
    "    similarities = cosine_similarity(input_vec, X_combined).flatten()\n",
    "    sorted_indices = similarities.argsort()[::-1]\n",
    "\n",
    "    # Filter out already shown recipes\n",
    "    new_indices = [i for i in sorted_indices if i not in shown_indices]\n",
    "\n",
    "    # Take top_k new results\n",
    "    top_indices = new_indices[:top_k]\n",
    "    shown_indices.update(top_indices)  # Mark these as shown\n",
    "\n",
    "    # Compute match score\n",
    "    input_set = set(i.strip().lower() for i in input_ingredients_str.split(','))\n",
    "    df['match_score'] = df['ingredients_list'].apply(\n",
    "        lambda ing: len(input_set & set(i.strip().lower() for i in ing.split(',')))\n",
    "    )\n",
    "\n",
    "    # Return sorted recommendations\n",
    "    results = df.iloc[top_indices].copy()\n",
    "    results = results.sort_values(by='match_score', ascending=False)\n",
    "    return results[['recipe_name', 'ingredients_list', 'palette', 'match_score', 'image_url']]\n"
   ]
  },
  {
   "cell_type": "code",
   "execution_count": 18,
   "id": "f2a7bddc",
   "metadata": {},
   "outputs": [
    {
     "name": "stdout",
     "output_type": "stream",
     "text": [
      "             recipe_name                                   ingredients_list  \\\n",
      "0         Homemade Bacon  ['pork belly', 'smoked paprika', 'kosher salt'...   \n",
      "7946   Crispy Pork Belly  ['pork belly', 'smoked paprika', 'kosher salt ...   \n",
      "1149  Ground Pork Omelet  ['vegetable oil', 'eggs', 'fish sauce', 'peppe...   \n",
      "\n",
      "                   palette  match_score  \\\n",
      "0     savory, smoky, spicy            0   \n",
      "7946  savory, smoky, spicy            0   \n",
      "1149          spicy, umami            0   \n",
      "\n",
      "                                              image_url  \n",
      "0     https://images.media-allrecipes.com/userphotos...  \n",
      "7946  https://images.media-allrecipes.com/userphotos...  \n",
      "1149  https://images.media-allrecipes.com/userphotos...  \n"
     ]
    }
   ],
   "source": [
    "# Initial recommendation\n",
    "input_ingredients = 'pork belly, smoked paprika, kosher salt'\n",
    "input_palette = 'spicy, umami'\n",
    "recommendations = recommend_recipes(input_ingredients, input_palette)\n",
    "print(recommendations)\n"
   ]
  },
  {
   "cell_type": "code",
   "execution_count": 8,
   "id": "322e62b6",
   "metadata": {},
   "outputs": [
    {
     "name": "stdout",
     "output_type": "stream",
     "text": [
      "                              recipe_name  \\\n",
      "0                          Homemade Bacon   \n",
      "7946                    Crispy Pork Belly   \n",
      "17617  Smokey Parmesan Sweet Potato Chips   \n",
      "12175                    Hot Dog Sausages   \n",
      "3567                   Easy Shredded Pork   \n",
      "\n",
      "                                        ingredients_list  \\\n",
      "0      ['pork belly', 'smoked paprika', 'kosher salt'...   \n",
      "7946   ['pork belly', 'smoked paprika', 'kosher salt ...   \n",
      "17617  ['large sweet potato', 'olive oil', 'shaved Pa...   \n",
      "12175  ['lean ground beef', 'ground pork', 'kosher sa...   \n",
      "3567   ['paprika', 'garlic powder', 'brown sugar', 'd...   \n",
      "\n",
      "                                   palette  match_score  \\\n",
      "0                     savory, smoky, spicy            0   \n",
      "7946                  savory, smoky, spicy            0   \n",
      "17617  earthy, savory, smoky, spicy, umami            0   \n",
      "12175                 savory, smoky, spicy            0   \n",
      "3567                  savory, spicy, sweet            0   \n",
      "\n",
      "                                               image_url  \n",
      "0      https://images.media-allrecipes.com/userphotos...  \n",
      "7946   https://images.media-allrecipes.com/userphotos...  \n",
      "17617  http://images.media-allrecipes.com/userphotos/...  \n",
      "12175  https://images.media-allrecipes.com/userphotos...  \n",
      "3567   https://images.media-allrecipes.com/userphotos...  \n"
     ]
    }
   ],
   "source": [
    "more_recommendations = recommend_recipes(input_ingredients, input_palette)\n",
    "print(more_recommendations)"
   ]
  },
  {
   "cell_type": "code",
   "execution_count": 19,
   "id": "fb0cac7e",
   "metadata": {},
   "outputs": [
    {
     "name": "stdout",
     "output_type": "stream",
     "text": [
      "                              recipe_name  \\\n",
      "17617  Smokey Parmesan Sweet Potato Chips   \n",
      "40999         Japanese Sesame Steak Sauce   \n",
      "3185               Kickin Stuffed Peppers   \n",
      "\n",
      "                                        ingredients_list  \\\n",
      "17617  ['large sweet potato', 'olive oil', 'shaved Pa...   \n",
      "40999  ['tahini', 'soy sauce', 'mayonnaise', 'garlic'...   \n",
      "3185   ['mild pork sausage', 'Neufchatel cheese', 'fr...   \n",
      "\n",
      "                                   palette  match_score  \\\n",
      "17617  earthy, savory, smoky, spicy, umami            0   \n",
      "40999                 savory, spicy, umami            0   \n",
      "3185                          spicy, umami            0   \n",
      "\n",
      "                                               image_url  \n",
      "17617  http://images.media-allrecipes.com/userphotos/...  \n",
      "40999  https://images.media-allrecipes.com/userphotos...  \n",
      "3185   https://images.media-allrecipes.com/userphotos...  \n"
     ]
    }
   ],
   "source": [
    "more_recommendations = recommend_recipes(input_ingredients, input_palette)\n",
    "print(more_recommendations)"
   ]
  },
  {
   "cell_type": "code",
   "execution_count": 20,
   "id": "5d779180",
   "metadata": {},
   "outputs": [
    {
     "name": "stdout",
     "output_type": "stream",
     "text": [
      "                 recipe_name  \\\n",
      "31857  Crispy Turnip 'Fries'   \n",
      "28121   Easy Pizza Sauce III   \n",
      "2743        Yummy Pork Chops   \n",
      "\n",
      "                                        ingredients_list  \\\n",
      "31857  ['turnips', 'vegetable oil', 'grated Parmesan ...   \n",
      "28121  ['tomato sauce', 'tomato paste', 'ground orega...   \n",
      "2743   ['Italian-style salad dressing', 'soy sauce', ...   \n",
      "\n",
      "                           palette  match_score  \\\n",
      "31857         savory, spicy, umami            0   \n",
      "28121  herby, savory, spicy, umami            0   \n",
      "2743          savory, spicy, umami            0   \n",
      "\n",
      "                                               image_url  \n",
      "31857  https://images.media-allrecipes.com/userphotos...  \n",
      "28121  https://images.media-allrecipes.com/userphotos...  \n",
      "2743   https://images.media-allrecipes.com/userphotos...  \n"
     ]
    }
   ],
   "source": [
    "more_recommendations = recommend_recipes(input_ingredients, input_palette)\n",
    "print(more_recommendations)"
   ]
  },
  {
   "cell_type": "code",
   "execution_count": null,
   "id": "143ea05d",
   "metadata": {},
   "outputs": [],
   "source": []
  }
 ],
 "metadata": {
  "kernelspec": {
   "display_name": "tf",
   "language": "python",
   "name": "python3"
  },
  "language_info": {
   "codemirror_mode": {
    "name": "ipython",
    "version": 3
   },
   "file_extension": ".py",
   "mimetype": "text/x-python",
   "name": "python",
   "nbconvert_exporter": "python",
   "pygments_lexer": "ipython3",
   "version": "3.9.21"
  }
 },
 "nbformat": 4,
 "nbformat_minor": 5
}
